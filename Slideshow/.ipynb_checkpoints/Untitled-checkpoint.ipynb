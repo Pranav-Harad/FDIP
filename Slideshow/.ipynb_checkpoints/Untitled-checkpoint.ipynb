{
 "cells": [
  {
   "cell_type": "code",
   "execution_count": 4,
   "id": "dd20446e-e179-4f15-8445-c290c6968980",
   "metadata": {},
   "outputs": [
    {
     "name": "stdout",
     "output_type": "stream",
     "text": [
      "Requirement already satisfied: opencv-python in c:\\users\\pranav\\anaconda3\\lib\\site-packages (4.12.0.88)\n",
      "Requirement already satisfied: numpy<2.3.0,>=2 in c:\\users\\pranav\\anaconda3\\lib\\site-packages (from opencv-python) (2.2.6)\n"
     ]
    }
   ],
   "source": [
    "!pip install opencv-python"
   ]
  },
  {
   "cell_type": "code",
   "execution_count": 7,
   "id": "916461bc-aaff-4e83-ae62-3230eba9a404",
   "metadata": {},
   "outputs": [
    {
     "name": "stdout",
     "output_type": "stream",
     "text": [
      "Found existing installation: numpy 2.2.6\n",
      "Uninstalling numpy-2.2.6:\n",
      "  Successfully uninstalled numpy-2.2.6\n",
      "Found existing installation: opencv-python 4.12.0.88\n",
      "Uninstalling opencv-python-4.12.0.88:\n",
      "  Successfully uninstalled opencv-python-4.12.0.88\n"
     ]
    },
    {
     "name": "stderr",
     "output_type": "stream",
     "text": [
      "WARNING: Failed to remove contents in a temporary directory 'C:\\Users\\Pranav\\anaconda3\\Lib\\site-packages\\~v2'.\n",
      "You can safely remove it manually.\n"
     ]
    },
    {
     "name": "stdout",
     "output_type": "stream",
     "text": [
      "Collecting numpy\n",
      "  Downloading numpy-2.3.1-cp312-cp312-win_amd64.whl.metadata (60 kB)\n",
      "     ---------------------------------------- 0.0/60.9 kB ? eta -:--:--\n",
      "     ---------------------------------------- 0.0/60.9 kB ? eta -:--:--\n",
      "     ---------------------------------------- 0.0/60.9 kB ? eta -:--:--\n",
      "     ---------------------------------------- 0.0/60.9 kB ? eta -:--:--\n",
      "     ------ --------------------------------- 10.2/60.9 kB ? eta -:--:--\n",
      "     ------ --------------------------------- 10.2/60.9 kB ? eta -:--:--\n",
      "     ------ --------------------------------- 10.2/60.9 kB ? eta -:--:--\n",
      "     ------------- ------------------------- 20.5/60.9 kB 72.6 kB/s eta 0:00:01\n",
      "     ------------- ------------------------- 20.5/60.9 kB 72.6 kB/s eta 0:00:01\n",
      "     ------------------------- ------------ 41.0/60.9 kB 115.5 kB/s eta 0:00:01\n",
      "     ------------------------------- ------ 51.2/60.9 kB 130.9 kB/s eta 0:00:01\n",
      "     -------------------------------------- 60.9/60.9 kB 154.4 kB/s eta 0:00:00\n",
      "Collecting opencv-python\n",
      "  Using cached opencv_python-4.12.0.88-cp37-abi3-win_amd64.whl.metadata (19 kB)\n",
      "Collecting numpy\n",
      "  Using cached numpy-2.2.6-cp312-cp312-win_amd64.whl.metadata (60 kB)\n",
      "Using cached opencv_python-4.12.0.88-cp37-abi3-win_amd64.whl (39.0 MB)\n",
      "Using cached numpy-2.2.6-cp312-cp312-win_amd64.whl (12.6 MB)\n",
      "Installing collected packages: numpy, opencv-python\n",
      "Successfully installed numpy-2.2.6 opencv-python-4.12.0.88\n"
     ]
    },
    {
     "name": "stderr",
     "output_type": "stream",
     "text": [
      "ERROR: pip's dependency resolver does not currently take into account all the packages that are installed. This behaviour is the source of the following dependency conflicts.\n",
      "contourpy 1.2.0 requires numpy<2.0,>=1.20, but you have numpy 2.2.6 which is incompatible.\n",
      "numba 0.59.1 requires numpy<1.27,>=1.22, but you have numpy 2.2.6 which is incompatible.\n",
      "pywavelets 1.5.0 requires numpy<2.0,>=1.22.4, but you have numpy 2.2.6 which is incompatible.\n",
      "streamlit 1.32.0 requires numpy<2,>=1.19.3, but you have numpy 2.2.6 which is incompatible.\n"
     ]
    }
   ],
   "source": [
    "!pip uninstall -y numpy opencv-python\n",
    "!pip install numpy opencv-python\n"
   ]
  },
  {
   "cell_type": "code",
   "execution_count": 12,
   "id": "cf72569c-9b57-4c2e-8df2-ed8e6a32bea2",
   "metadata": {},
   "outputs": [
    {
     "name": "stdout",
     "output_type": "stream",
     "text": [
      "Collecting numpy==1.26.4\n",
      "  Downloading numpy-1.26.4-cp312-cp312-win_amd64.whl.metadata (61 kB)\n",
      "     ---------------------------------------- 0.0/61.0 kB ? eta -:--:--\n",
      "     ---------------------------------------- 0.0/61.0 kB ? eta -:--:--\n",
      "     ---------------------------------------- 0.0/61.0 kB ? eta -:--:--\n",
      "     ---------------------------------------- 0.0/61.0 kB ? eta -:--:--\n",
      "     ------ --------------------------------- 10.2/61.0 kB ? eta -:--:--\n",
      "     ------ --------------------------------- 10.2/61.0 kB ? eta -:--:--\n",
      "     ------ --------------------------------- 10.2/61.0 kB ? eta -:--:--\n",
      "     ------ --------------------------------- 10.2/61.0 kB ? eta -:--:--\n",
      "     ------------- ------------------------- 20.5/61.0 kB 65.2 kB/s eta 0:00:01\n",
      "     ------------------- ------------------- 30.7/61.0 kB 87.1 kB/s eta 0:00:01\n",
      "     ------------------------- ------------ 41.0/61.0 kB 115.5 kB/s eta 0:00:01\n",
      "     ------------------------------- ------ 51.2/61.0 kB 130.9 kB/s eta 0:00:01\n",
      "     -------------------------------------- 61.0/61.0 kB 147.7 kB/s eta 0:00:00\n",
      "Downloading numpy-1.26.4-cp312-cp312-win_amd64.whl (15.5 MB)\n",
      "   ---------------------------------------- 0.0/15.5 MB ? eta -:--:--\n",
      "   ---------------------------------------- 0.0/15.5 MB 1.4 MB/s eta 0:00:12\n",
      "   ---------------------------------------- 0.1/15.5 MB 1.5 MB/s eta 0:00:11\n",
      "   ---------------------------------------- 0.2/15.5 MB 1.3 MB/s eta 0:00:12\n",
      "    --------------------------------------- 0.3/15.5 MB 2.0 MB/s eta 0:00:08\n",
      "   - -------------------------------------- 0.6/15.5 MB 2.8 MB/s eta 0:00:06\n",
      "   - -------------------------------------- 0.8/15.5 MB 2.8 MB/s eta 0:00:06\n",
      "   -- ------------------------------------- 1.0/15.5 MB 3.3 MB/s eta 0:00:05\n",
      "   --- ------------------------------------ 1.2/15.5 MB 3.5 MB/s eta 0:00:05\n",
      "   --- ------------------------------------ 1.5/15.5 MB 3.7 MB/s eta 0:00:04\n",
      "   ---- ----------------------------------- 1.8/15.5 MB 3.9 MB/s eta 0:00:04\n",
      "   ----- ---------------------------------- 2.1/15.5 MB 4.2 MB/s eta 0:00:04\n",
      "   ------ --------------------------------- 2.4/15.5 MB 4.3 MB/s eta 0:00:04\n",
      "   ------ --------------------------------- 2.5/15.5 MB 4.3 MB/s eta 0:00:04\n",
      "   ------- -------------------------------- 2.9/15.5 MB 4.4 MB/s eta 0:00:03\n",
      "   -------- ------------------------------- 3.1/15.5 MB 4.6 MB/s eta 0:00:03\n",
      "   -------- ------------------------------- 3.4/15.5 MB 4.6 MB/s eta 0:00:03\n",
      "   --------- ------------------------------ 3.6/15.5 MB 4.7 MB/s eta 0:00:03\n",
      "   ---------- ----------------------------- 4.0/15.5 MB 4.8 MB/s eta 0:00:03\n",
      "   ---------- ----------------------------- 4.1/15.5 MB 4.7 MB/s eta 0:00:03\n",
      "   ----------- ---------------------------- 4.5/15.5 MB 4.8 MB/s eta 0:00:03\n",
      "   ------------ --------------------------- 4.7/15.5 MB 4.9 MB/s eta 0:00:03\n",
      "   ------------- -------------------------- 5.0/15.5 MB 5.0 MB/s eta 0:00:03\n",
      "   ------------- -------------------------- 5.3/15.5 MB 5.1 MB/s eta 0:00:03\n",
      "   -------------- ------------------------- 5.5/15.5 MB 5.1 MB/s eta 0:00:02\n",
      "   -------------- ------------------------- 5.8/15.5 MB 5.1 MB/s eta 0:00:02\n",
      "   --------------- ------------------------ 6.0/15.5 MB 5.0 MB/s eta 0:00:02\n",
      "   ---------------- ----------------------- 6.2/15.5 MB 5.0 MB/s eta 0:00:02\n",
      "   ----------------- ---------------------- 6.7/15.5 MB 5.2 MB/s eta 0:00:02\n",
      "   ------------------ --------------------- 7.2/15.5 MB 5.4 MB/s eta 0:00:02\n",
      "   -------------------- ------------------- 7.8/15.5 MB 5.6 MB/s eta 0:00:02\n",
      "   --------------------- ------------------ 8.3/15.5 MB 5.9 MB/s eta 0:00:02\n",
      "   ----------------------- ---------------- 9.0/15.5 MB 6.1 MB/s eta 0:00:02\n",
      "   ------------------------ --------------- 9.6/15.5 MB 6.3 MB/s eta 0:00:01\n",
      "   ------------------------- -------------- 9.9/15.5 MB 6.3 MB/s eta 0:00:01\n",
      "   --------------------------- ------------ 10.7/15.5 MB 7.3 MB/s eta 0:00:01\n",
      "   ----------------------------- ---------- 11.3/15.5 MB 7.7 MB/s eta 0:00:01\n",
      "   ------------------------------- -------- 12.1/15.5 MB 8.3 MB/s eta 0:00:01\n",
      "   -------------------------------- ------- 12.5/15.5 MB 8.5 MB/s eta 0:00:01\n",
      "   ---------------------------------- ----- 13.5/15.5 MB 9.5 MB/s eta 0:00:01\n",
      "   ------------------------------------ --- 14.2/15.5 MB 10.1 MB/s eta 0:00:01\n",
      "   -------------------------------------- - 15.1/15.5 MB 11.3 MB/s eta 0:00:01\n",
      "   ---------------------------------------  15.5/15.5 MB 11.7 MB/s eta 0:00:01\n",
      "   ---------------------------------------- 15.5/15.5 MB 11.1 MB/s eta 0:00:00\n",
      "Installing collected packages: numpy\n",
      "  Attempting uninstall: numpy\n",
      "    Found existing installation: numpy 2.2.6\n",
      "    Uninstalling numpy-2.2.6:\n",
      "      Successfully uninstalled numpy-2.2.6\n",
      "Successfully installed numpy-1.26.4\n",
      "Note: you may need to restart the kernel to use updated packages.\n"
     ]
    },
    {
     "name": "stderr",
     "output_type": "stream",
     "text": [
      "ERROR: pip's dependency resolver does not currently take into account all the packages that are installed. This behaviour is the source of the following dependency conflicts.\n",
      "opencv-python 4.12.0.88 requires numpy<2.3.0,>=2; python_version >= \"3.9\", but you have numpy 1.26.4 which is incompatible.\n"
     ]
    }
   ],
   "source": [
    "pip install numpy==1.26.4 --force-reinstall\n"
   ]
  },
  {
   "cell_type": "code",
   "execution_count": 14,
   "id": "48c5e17d-fc28-4f18-afcc-1a2246de6acb",
   "metadata": {},
   "outputs": [
    {
     "name": "stdout",
     "output_type": "stream",
     "text": [
      "NumPy version: 1.26.4\n",
      "OpenCV version: 4.12.0\n"
     ]
    }
   ],
   "source": [
    "import numpy as np\n",
    "import cv2\n",
    "\n",
    "print(\"NumPy version:\", np.__version__)\n",
    "print(\"OpenCV version:\", cv2.__version__)\n"
   ]
  },
  {
   "cell_type": "code",
   "execution_count": 16,
   "id": "64bdaa1c-125a-43fa-9290-39912a96d8f4",
   "metadata": {},
   "outputs": [
    {
     "ename": "FileNotFoundError",
     "evalue": "[WinError 3] The system cannot find the path specified: 'images'",
     "output_type": "error",
     "traceback": [
      "\u001b[1;31m---------------------------------------------------------------------------\u001b[0m",
      "\u001b[1;31mFileNotFoundError\u001b[0m                         Traceback (most recent call last)",
      "Cell \u001b[1;32mIn[16], line 61\u001b[0m\n\u001b[0;32m     58\u001b[0m     \u001b[38;5;28mprint\u001b[39m(\u001b[38;5;124mf\u001b[39m\u001b[38;5;124m\"\u001b[39m\u001b[38;5;124m✅ Slideshow saved to: \u001b[39m\u001b[38;5;132;01m{\u001b[39;00mOUTPUT_VIDEO\u001b[38;5;132;01m}\u001b[39;00m\u001b[38;5;124m\"\u001b[39m)\n\u001b[0;32m     60\u001b[0m \u001b[38;5;28;01mif\u001b[39;00m \u001b[38;5;18m__name__\u001b[39m \u001b[38;5;241m==\u001b[39m \u001b[38;5;124m\"\u001b[39m\u001b[38;5;124m__main__\u001b[39m\u001b[38;5;124m\"\u001b[39m:\n\u001b[1;32m---> 61\u001b[0m     imgs \u001b[38;5;241m=\u001b[39m load_images(IMAGE_FOLDER)\n\u001b[0;32m     62\u001b[0m     \u001b[38;5;28;01mif\u001b[39;00m \u001b[38;5;129;01mnot\u001b[39;00m imgs:\n\u001b[0;32m     63\u001b[0m         \u001b[38;5;28mprint\u001b[39m(\u001b[38;5;124m\"\u001b[39m\u001b[38;5;124mNo images found in folder:\u001b[39m\u001b[38;5;124m\"\u001b[39m, IMAGE_FOLDER)\n",
      "Cell \u001b[1;32mIn[16], line 17\u001b[0m, in \u001b[0;36mload_images\u001b[1;34m(folder)\u001b[0m\n\u001b[0;32m     14\u001b[0m \u001b[38;5;28;01mdef\u001b[39;00m \u001b[38;5;21mload_images\u001b[39m(folder):\n\u001b[0;32m     15\u001b[0m \u001b[38;5;250m    \u001b[39m\u001b[38;5;124;03m\"\"\"Load and resize images from a folder\"\"\"\u001b[39;00m\n\u001b[0;32m     16\u001b[0m     image_files \u001b[38;5;241m=\u001b[39m \u001b[38;5;28msorted\u001b[39m([\n\u001b[1;32m---> 17\u001b[0m         f \u001b[38;5;28;01mfor\u001b[39;00m f \u001b[38;5;129;01min\u001b[39;00m os\u001b[38;5;241m.\u001b[39mlistdir(folder)\n\u001b[0;32m     18\u001b[0m         \u001b[38;5;28;01mif\u001b[39;00m f\u001b[38;5;241m.\u001b[39mlower()\u001b[38;5;241m.\u001b[39mendswith((\u001b[38;5;124m'\u001b[39m\u001b[38;5;124m.jpg\u001b[39m\u001b[38;5;124m'\u001b[39m, \u001b[38;5;124m'\u001b[39m\u001b[38;5;124m.jpeg\u001b[39m\u001b[38;5;124m'\u001b[39m, \u001b[38;5;124m'\u001b[39m\u001b[38;5;124m.png\u001b[39m\u001b[38;5;124m'\u001b[39m))\n\u001b[0;32m     19\u001b[0m     ])\n\u001b[0;32m     20\u001b[0m     images \u001b[38;5;241m=\u001b[39m []\n\u001b[0;32m     21\u001b[0m     \u001b[38;5;28;01mfor\u001b[39;00m file \u001b[38;5;129;01min\u001b[39;00m image_files:\n",
      "\u001b[1;31mFileNotFoundError\u001b[0m: [WinError 3] The system cannot find the path specified: 'images'"
     ]
    }
   ],
   "source": [
    "import cv2\n",
    "import os\n",
    "import time\n",
    "\n",
    "# === CONFIGURATION ===\n",
    "IMAGE_FOLDER = r\"C:\\Users\\Pranav\\OneDrive\\Desktop\\FDIP\\images\"              # Folder where your images are stored\n",
    "OUTPUT_VIDEO = \"slideshow_output.avi\"  # Output file name\n",
    "FRAME_WIDTH = 800\n",
    "FRAME_HEIGHT = 600\n",
    "FPS = 30                             # Frames per second\n",
    "DISPLAY_SECONDS = 2                  # Display time for each image\n",
    "TRANSITION_FRAMES = 30               # Frames for crossfade\n",
    "\n",
    "def load_images(folder):\n",
    "    \"\"\"Load and resize images from a folder\"\"\"\n",
    "    image_files = sorted([\n",
    "        f for f in os.listdir(folder)\n",
    "        if f.lower().endswith(('.jpg', '.jpeg', '.png'))\n",
    "    ])\n",
    "    images = []\n",
    "    for file in image_files:\n",
    "        img_path = os.path.join(folder, file)\n",
    "        img = cv2.imread(img_path)\n",
    "        if img is not None:\n",
    "            resized = cv2.resize(img, (FRAME_WIDTH, FRAME_HEIGHT))\n",
    "            images.append(resized)\n",
    "    return images\n",
    "\n",
    "def create_slideshow(images):\n",
    "    \"\"\"Create video slideshow with transitions\"\"\"\n",
    "    if len(images) < 2:\n",
    "        print(\"At least two images are needed to create a slideshow.\")\n",
    "        return\n",
    "\n",
    "    fourcc = cv2.VideoWriter_fourcc(*'XVID')\n",
    "    out = cv2.VideoWriter(OUTPUT_VIDEO, fourcc, FPS, (FRAME_WIDTH, FRAME_HEIGHT))\n",
    "\n",
    "    for i in range(len(images) - 1):\n",
    "        current = images[i]\n",
    "        next_img = images[i + 1]\n",
    "\n",
    "        # Show current image for DISPLAY_SECONDS\n",
    "        for _ in range(FPS * DISPLAY_SECONDS):\n",
    "            out.write(current)\n",
    "\n",
    "        # Crossfade transition\n",
    "        for t in range(1, TRANSITION_FRAMES + 1):\n",
    "            alpha = t / TRANSITION_FRAMES\n",
    "            beta = 1.0 - alpha\n",
    "            blended = cv2.addWeighted(current, beta, next_img, alpha, 0)\n",
    "            out.write(blended)\n",
    "\n",
    "    # Show last image\n",
    "    for _ in range(FPS * DISPLAY_SECONDS):\n",
    "        out.write(images[-1])\n",
    "\n",
    "    out.release()\n",
    "    print(f\"✅ Slideshow saved to: {OUTPUT_VIDEO}\")\n",
    "\n",
    "if __name__ == \"__main__\":\n",
    "    imgs = load_images(IMAGE_FOLDER)\n",
    "    if not imgs:\n",
    "        print(\"No images found in folder:\", IMAGE_FOLDER)\n",
    "    else:\n",
    "        create_slideshow(imgs)\n"
   ]
  },
  {
   "cell_type": "code",
   "execution_count": null,
   "id": "c300ec70-7920-490f-98d6-8aa6db9311f0",
   "metadata": {},
   "outputs": [],
   "source": []
  }
 ],
 "metadata": {
  "kernelspec": {
   "display_name": "Python 3 (ipykernel)",
   "language": "python",
   "name": "python3"
  },
  "language_info": {
   "codemirror_mode": {
    "name": "ipython",
    "version": 3
   },
   "file_extension": ".py",
   "mimetype": "text/x-python",
   "name": "python",
   "nbconvert_exporter": "python",
   "pygments_lexer": "ipython3",
   "version": "3.12.4"
  }
 },
 "nbformat": 4,
 "nbformat_minor": 5
}
